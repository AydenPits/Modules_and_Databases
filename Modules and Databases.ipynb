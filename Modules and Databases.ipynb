{
 "cells": [
  {
   "cell_type": "markdown",
   "metadata": {},
   "source": [
    "11.1 "
   ]
  },
  {
   "cell_type": "code",
   "execution_count": 1,
   "metadata": {},
   "outputs": [
    {
     "name": "stdout",
     "output_type": "stream",
     "text": [
      "Open 9-5 Daily\n"
     ]
    }
   ],
   "source": [
    "from zoo import hours\n",
    "\n",
    "hours()"
   ]
  },
  {
   "cell_type": "markdown",
   "metadata": {},
   "source": [
    "11.2"
   ]
  },
  {
   "cell_type": "code",
   "execution_count": 4,
   "metadata": {},
   "outputs": [
    {
     "name": "stdout",
     "output_type": "stream",
     "text": [
      "Open 9-5 Daily\n"
     ]
    }
   ],
   "source": [
    "import zoo as menagerie\n",
    "\n",
    "hours()"
   ]
  },
  {
   "cell_type": "markdown",
   "metadata": {},
   "source": [
    "16.8"
   ]
  },
  {
   "cell_type": "code",
   "execution_count": 9,
   "metadata": {},
   "outputs": [
    {
     "name": "stdout",
     "output_type": "stream",
     "text": [
      "[('Perdido Street Station',), ('Small Gods',), ('The Spellman Files',), ('The Weirdstone of Brisingamen',), ('Thud!',)]\n"
     ]
    }
   ],
   "source": [
    "import sqlite3\n",
    "conn = sqlite3.connect('books.db', timeout= 10)\n",
    "curs = conn.cursor()\n",
    "#curs.execute('''CREATE TABLE books (title TEXT, author TEXT, year INT)''')\n",
    "#curs.execute('''DROP TABLE books''')\n",
    "ins = 'INSERT INTO books (title, author, year) VALUES(?, ?, ?)'\n",
    "curs.execute(ins, (\"The Weirdstone of Brisingamen\", \"Alan Garner\", 1960))\n",
    "curs.execute(ins, (\"Perdido Street Station\", \"China Miéville\", 2000))\n",
    "curs.execute(ins, (\"Thud!\", \"Terry Pratchett\", 2005))\n",
    "curs.execute(ins, (\"The Spellman Files\", \"Lisa Lutz\", 2007))\n",
    "curs.execute(ins, (\"Small Gods\", \"Terry Pratchett\",1992))\n",
    "\n",
    "curs.execute('SELECT title from books ORDER BY title')\n",
    "rows = curs.fetchall()\n",
    "print(rows)\n",
    "\n",
    "curs.close()\n",
    "conn.close()\n",
    "\n"
   ]
  }
 ],
 "metadata": {
  "kernelspec": {
   "display_name": "Python 3.10.4 64-bit",
   "language": "python",
   "name": "python3"
  },
  "language_info": {
   "codemirror_mode": {
    "name": "ipython",
    "version": 3
   },
   "file_extension": ".py",
   "mimetype": "text/x-python",
   "name": "python",
   "nbconvert_exporter": "python",
   "pygments_lexer": "ipython3",
   "version": "3.10.4"
  },
  "orig_nbformat": 4,
  "vscode": {
   "interpreter": {
    "hash": "d1fc306883a8effd3c7a791eb038dca80f133d1388b37be464360b229b219df9"
   }
  }
 },
 "nbformat": 4,
 "nbformat_minor": 2
}
